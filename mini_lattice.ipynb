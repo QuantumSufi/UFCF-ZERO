{
  "nbformat": 4,
  "nbformat_minor": 0,
  "metadata": {
    "colab": {
      "provenance": [],
      "authorship_tag": "ABX9TyNI7IO1vlLa1xTxrY6oUdeX",
      "include_colab_link": true
    },
    "kernelspec": {
      "name": "python3",
      "display_name": "Python 3"
    },
    "language_info": {
      "name": "python"
    }
  },
  "cells": [
    {
      "cell_type": "markdown",
      "metadata": {
        "id": "view-in-github",
        "colab_type": "text"
      },
      "source": [
        "<a href=\"https://colab.research.google.com/github/QuantumSufi/UFCF-ZERO/blob/main/mini_lattice.ipynb\" target=\"_parent\"><img src=\"https://colab.research.google.com/assets/colab-badge.svg\" alt=\"Open In Colab\"/></a>"
      ]
    },
    {
      "cell_type": "code",
      "execution_count": null,
      "metadata": {
        "id": "_FO0i-3tSs7K"
      },
      "outputs": [],
      "source": [
        "# mini_lattice.ipynb  – SU(2) 16^3x32 örnek demo\n",
        "import torch, math, time\n",
        "L, Nt, beta = 16, 32, 2.2          # örgü boyutu ve beta\n",
        "device = 'cuda' if torch.cuda.is_available() else 'cpu'\n",
        "\n",
        "# Basit link değişkeni: 2x2 birim matrisler + fraktal faz\n",
        "def random_u2():\n",
        "    theta = torch.rand(1, device=device) * 2*math.pi\n",
        "    return torch.stack([torch.cos(theta), torch.sin(theta)], dim=-1)\n",
        "\n",
        "U = torch.stack([[random_u2() for _ in range(4)] for _ in range(L**3*Nt)])\n",
        "\n",
        "def staple_sum(U, idx):       # çok sadeleştirilmiş\n",
        "    return sum(U[(idx+k) % U.shape[0]] for k in (1,2,3))\n",
        "\n",
        "def sweep(U):\n",
        "    accept = 0\n",
        "    for idx in range(U.shape[0]):\n",
        "        old = U[idx].clone()\n",
        "        proposal = random_u2()\n",
        "        dS = -beta * ( (proposal - old) * staple_sum(U, idx) ).sum()\n",
        "        if dS < 0 or torch.rand(1, device=device) < torch.exp(-dS):\n",
        "            U[idx] = proposal\n",
        "            accept += 1\n",
        "    return accept / U.shape[0]\n",
        "\n",
        "# Isıl dengeleme\n",
        "for it in range(50):\n",
        "    acc = sweep(U)\n",
        "    if it % 10 == 0:\n",
        "        print(f'Iter {it}: acc={acc:.2f}')\n",
        "\n",
        "# Plaquette ölçümü (çok kaba)\n",
        "plaq = U.mean().item()\n",
        "print(\"⟨P⟩ =\", plaq)\n",
        "\n",
        "# Kaydet\n",
        "import numpy as np, os\n",
        "os.makedirs('out', exist_ok=True)\n",
        "np.savez('out/mini_lattice_results.npz', plaquette=plaq, beta=beta)\n"
      ]
    }
  ]
}