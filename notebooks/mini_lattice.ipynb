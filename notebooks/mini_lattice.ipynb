{
  "nbformat": 4,
  "nbformat_minor": 0,
  "metadata": {
    "colab": {
      "provenance": []
    },
    "kernelspec": {
      "name": "python3",
      "display_name": "Python 3"
    },
    "language_info": {
      "name": "python"
    }
  },
  "cells": [
    {
      "cell_type": "code",
      "execution_count": 2,
      "metadata": {
        "colab": {
          "base_uri": "https://localhost:8080/"
        },
        "id": "_FO0i-3tSs7K",
        "outputId": "d3a95bfa-b250-4f0e-c5d6-c04077275d6f"
      },
      "outputs": [
        {
          "output_type": "stream",
          "name": "stdout",
          "text": [
            "Iter 0: accept=0.55\n",
            "Iter 1: accept=0.47\n",
            "Iter 2: accept=0.43\n",
            "Iter 3: accept=0.40\n",
            "Iter 4: accept=0.39\n",
            "Iter 5: accept=0.37\n",
            "Iter 6: accept=0.37\n",
            "Iter 7: accept=0.36\n",
            "Iter 8: accept=0.35\n",
            "Iter 9: accept=0.35\n",
            "plaquette = -0.0002654680283740163\n"
          ]
        }
      ],
      "source": [
        "import torch, math, os, numpy as np\n",
        "L, Nt, beta = 16, 32, 2.2\n",
        "device = 'cuda' if torch.cuda.is_available() else 'cpu'\n",
        "\n",
        "def random_u2():\n",
        "    theta = torch.rand(1, device=device) * 2 * math.pi\n",
        "    return torch.stack([torch.cos(theta), torch.sin(theta)], dim=-1)  # (1,2)\n",
        "\n",
        "# --- DÜZELTİLMİŞ SATIR ---\n",
        "U = torch.stack(\n",
        "        [torch.stack([random_u2() for _ in range(4)], dim=0)\n",
        "         for _ in range(L**3 * Nt)],\n",
        "        dim=0\n",
        "    )\n",
        "# -------------------------\n",
        "\n",
        "def staple_sum(U, idx):\n",
        "    return sum(U[(idx + k) % U.shape[0]] for k in (1, 2, 3))\n",
        "\n",
        "def sweep(U):\n",
        "    accept = 0\n",
        "    for idx in range(U.shape[0]):\n",
        "        old = U[idx].clone()\n",
        "        proposal = torch.stack([random_u2() for _ in range(4)], dim=0)\n",
        "        dS = -beta * ((proposal - old) * staple_sum(U, idx)).sum()\n",
        "        if dS < 0 or torch.rand(1, device=device) < torch.exp(-dS):\n",
        "            U[idx] = proposal\n",
        "            accept += 1\n",
        "    return accept / U.shape[0]\n",
        "\n",
        "for it in range(10):\n",
        "    acc = sweep(U)\n",
        "    print(f'Iter {it}: accept={acc:.2f}')\n",
        "\n",
        "plaq = U.mean().item()\n",
        "print(\"plaquette =\", plaq)\n",
        "\n",
        "os.makedirs('out', exist_ok=True)\n",
        "np.savez('out/mini_lattice_results.npz', plaquette=plaq, beta=beta)\n"
      ]
    }
  ]
}